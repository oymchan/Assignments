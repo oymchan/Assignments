{
 "cells": [
  {
   "cell_type": "markdown",
   "id": "e65a297b-46b8-423d-aa2d-41cf24af5a0b",
   "metadata": {},
   "source": [
    "# Data Science Tools and Ecosystem"
   ]
  },
  {
   "cell_type": "markdown",
   "id": "b4b04830-da7e-4852-9501-a920bdc4ea82",
   "metadata": {},
   "source": [
    "In this notebook, Data Science Tools and Ecosystem are summarized."
   ]
  },
  {
   "cell_type": "markdown",
   "id": "dda94e96-7d28-4a94-b592-fff36b4c1668",
   "metadata": {},
   "source": [
    "Some of the popular languages that Data Scientists use are:\n",
    "1. Python\n",
    "2. R\n",
    "3. C++\n",
    "4. Java\n",
    "5. Julia"
   ]
  },
  {
   "cell_type": "markdown",
   "id": "a4fe31c7-ee0b-41e8-a918-be5e9739811a",
   "metadata": {},
   "source": [
    "Some of the commonly used libraries used by Data Scientists include:\n",
    "1. NumPy\n",
    "2. Pandas\n",
    "3. Matplotlib\n",
    "4. TensorFlow"
   ]
  },
  {
   "cell_type": "markdown",
   "id": "bfd0aaa5-c5a0-4793-ba8b-5925888a3a85",
   "metadata": {},
   "source": [
    "|Data Science Tools|\n",
    "|------------------|\n",
    "|Jupyter Notebook|\n",
    "|RStudio|\n",
    "|Zeppelin Notebook|"
   ]
  },
  {
   "cell_type": "markdown",
   "id": "a66f9167-5333-4b5e-8e5b-8b49963318e1",
   "metadata": {},
   "source": [
    "### Below are a few examples of evaluating arithmetic expressions in Python"
   ]
  },
  {
   "cell_type": "code",
   "execution_count": 1,
   "id": "ed4810c3-0bee-4059-b369-33c1cc5d05a4",
   "metadata": {},
   "outputs": [
    {
     "data": {
      "text/plain": [
       "17"
      ]
     },
     "execution_count": 1,
     "metadata": {},
     "output_type": "execute_result"
    }
   ],
   "source": [
    "#This a simple arithmetic expression to mutiply then add integers\n",
    "(3*4)+5"
   ]
  },
  {
   "cell_type": "code",
   "execution_count": 4,
   "id": "9466cb06-dda4-40ea-9388-edbe2354cfc6",
   "metadata": {},
   "outputs": [
    {
     "data": {
      "text/plain": [
       "3.3333333333333335"
      ]
     },
     "execution_count": 4,
     "metadata": {},
     "output_type": "execute_result"
    }
   ],
   "source": [
    "#This will convert 200 minutes to hours by diving by 60\n",
    "200/60"
   ]
  },
  {
   "cell_type": "markdown",
   "id": "95a46361-701b-493d-8de6-43dba54402e5",
   "metadata": {},
   "source": [
    "**Objectives:**\n",
    "\n",
    "- List popular languages for Data Science\n",
    "- Demonstrate proficiency in Data Science toolkit knowledge\n",
    "- Understand and become amiliar with preparing notebooks and sharing our works on suitable platforms"
   ]
  },
  {
   "cell_type": "markdown",
   "id": "47965c36-dd10-44b5-8ecc-4ff058d3064d",
   "metadata": {},
   "source": [
    "## Author\n",
    "Chan Oi Yan Michelle"
   ]
  },
  {
   "cell_type": "code",
   "execution_count": null,
   "id": "e9d3c8e9-3a70-4bba-96f1-78e41fb62349",
   "metadata": {},
   "outputs": [],
   "source": []
  }
 ],
 "metadata": {
  "kernelspec": {
   "display_name": "Python 3 (ipykernel)",
   "language": "python",
   "name": "python3"
  },
  "language_info": {
   "codemirror_mode": {
    "name": "ipython",
    "version": 3
   },
   "file_extension": ".py",
   "mimetype": "text/x-python",
   "name": "python",
   "nbconvert_exporter": "python",
   "pygments_lexer": "ipython3",
   "version": "3.11.5"
  }
 },
 "nbformat": 4,
 "nbformat_minor": 5
}
